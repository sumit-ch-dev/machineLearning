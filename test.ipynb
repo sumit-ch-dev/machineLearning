#this is from the notebook

**modules**

modules can be imported form current directory where the python file is saved. 
